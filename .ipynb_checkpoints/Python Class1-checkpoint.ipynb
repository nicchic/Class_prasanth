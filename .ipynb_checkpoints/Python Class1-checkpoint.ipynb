{
 "cells": [
  {
   "cell_type": "code",
   "execution_count": 1,
   "metadata": {
    "collapsed": false
   },
   "outputs": [
    {
     "ename": "SyntaxError",
     "evalue": "Missing parentheses in call to 'print' (<ipython-input-1-da5296ba9e4e>, line 2)",
     "output_type": "error",
     "traceback": [
      "\u001b[0;36m  File \u001b[0;32m\"<ipython-input-1-da5296ba9e4e>\"\u001b[0;36m, line \u001b[0;32m2\u001b[0m\n\u001b[0;31m    print \"3 is greater than 2.\"\u001b[0m\n\u001b[0m                               ^\u001b[0m\n\u001b[0;31mSyntaxError\u001b[0m\u001b[0;31m:\u001b[0m Missing parentheses in call to 'print'\n"
     ]
    }
   ],
   "source": [
    "if 3>2:\n",
    "    print \"3 is greater than 2.\" \n",
    "else:\n",
    "    print \" 3 is not greater than 2.\""
   ]
  },
  {
   "cell_type": "code",
   "execution_count": 3,
   "metadata": {
    "collapsed": false
   },
   "outputs": [
    {
     "name": "stdout",
     "output_type": "stream",
     "text": [
      "3 is greater than 2.\n"
     ]
    }
   ],
   "source": [
    "if 3>2:\n",
    "    print (\"3 is greater than 2.\")\n",
    "else:\n",
    "    print (\"3 is not greater than 2.\")\n",
    "    "
   ]
  },
  {
   "cell_type": "code",
   "execution_count": 7,
   "metadata": {
    "collapsed": false
   },
   "outputs": [
    {
     "name": "stdout",
     "output_type": "stream",
     "text": [
      "x is even\n"
     ]
    }
   ],
   "source": [
    "x=6\n",
    "y=False\n",
    "if x%2==0:  #header, colon is important # print \"x is even\" #This is block\n",
    "    print(\"x is even\")\n",
    "    y=True"
   ]
  },
  {
   "cell_type": "code",
   "execution_count": 8,
   "metadata": {
    "collapsed": false
   },
   "outputs": [
    {
     "data": {
      "text/plain": [
       "'\\n\\n\\n'"
      ]
     },
     "execution_count": 8,
     "metadata": {},
     "output_type": "execute_result"
    }
   ],
   "source": [
    "\"\"\"\n",
    "\n",
    "\n",
    "\"\"\""
   ]
  },
  {
   "cell_type": "code",
   "execution_count": 10,
   "metadata": {
    "collapsed": false
   },
   "outputs": [
    {
     "name": "stdout",
     "output_type": "stream",
     "text": [
      "x is smaller than y\n"
     ]
    }
   ],
   "source": [
    "x=2\n",
    "y=5\n",
    "if x<y:\n",
    "    print (\"x is smaller than y\")\n",
    "elif x==y:\n",
    "    print (\"x is equal to y\")\n",
    "else:\n",
    "    print (\"x is greater than y\")\n",
    "    "
   ]
  },
  {
   "cell_type": "code",
   "execution_count": 11,
   "metadata": {
    "collapsed": false
   },
   "outputs": [
    {
     "name": "stdout",
     "output_type": "stream",
     "text": [
      "x is smaller than y\n"
     ]
    }
   ],
   "source": [
    "x=2\n",
    "y=5\n",
    "if x<y:\n",
    "    print (\"x is smaller than y\")\n",
    "else: \n",
    "    if x==y:\n",
    "        print (\"x is equal to y\")\n",
    "    else:\n",
    "        print (\"x is greater than y\")"
   ]
  },
  {
   "cell_type": "code",
   "execution_count": 1,
   "metadata": {
    "collapsed": false,
    "scrolled": false
   },
   "outputs": [
    {
     "name": "stdout",
     "output_type": "stream",
     "text": [
      "Enter 10 number: \n",
      "23\n",
      "22\n",
      "54\n",
      "4\n",
      "2\n",
      "7890\n",
      "34.3\n",
      "4.556\n",
      "4\n",
      "34.459\n",
      "The average is:  807.2315\n"
     ]
    }
   ],
   "source": [
    "sum=0                      \n",
    "print (\"Enter 10 number: \")   #prompt          \n",
    "counter=0                #initating the counter\n",
    "while counter<10:         #WHILE LOOP\n",
    "    sum= sum+float(input())\n",
    "    counter=counter+1\n",
    "print (\"The average is: \", sum/10)"
   ]
  },
  {
   "cell_type": "code",
   "execution_count": 39,
   "metadata": {
    "collapsed": false
   },
   "outputs": [
    {
     "name": "stdout",
     "output_type": "stream",
     "text": [
      "5\n",
      "6\n",
      "7\n",
      "8\n",
      "9\n"
     ]
    }
   ],
   "source": [
    "for i in range(5,10):   #range is built-in function, range is only for integers\n",
    "    print (i)           #FOR LOOP"
   ]
  },
  {
   "cell_type": "code",
   "execution_count": 62,
   "metadata": {
    "collapsed": false
   },
   "outputs": [
    {
     "name": "stdout",
     "output_type": "stream",
     "text": [
      "[34, 40, 4.5, 90]\n"
     ]
    }
   ],
   "source": [
    "lst = [34,40,4.5,90]\n",
    "print (lst)"
   ]
  },
  {
   "cell_type": "code",
   "execution_count": 60,
   "metadata": {
    "collapsed": false
   },
   "outputs": [
    {
     "name": "stdout",
     "output_type": "stream",
     "text": [
      "[[34, 40, 4.5], 'book1']\n"
     ]
    }
   ],
   "source": [
    "lst2= [lst, 'book1']\n",
    "print (lst2)"
   ]
  },
  {
   "cell_type": "code",
   "execution_count": 47,
   "metadata": {
    "collapsed": false
   },
   "outputs": [
    {
     "name": "stdout",
     "output_type": "stream",
     "text": [
      "[34, 'name', 4.5, 56]\n"
     ]
    }
   ],
   "source": [
    "lst.append(56)  #list method\n",
    "print (lst)"
   ]
  },
  {
   "cell_type": "code",
   "execution_count": 63,
   "metadata": {
    "collapsed": false
   },
   "outputs": [
    {
     "name": "stdout",
     "output_type": "stream",
     "text": [
      "Average is  42.125\n"
     ]
    }
   ],
   "source": [
    "sum=0\n",
    "for number in lst:\n",
    "    sum=sum+number\n",
    "print (\"Average is \", sum/len(lst))     #len is built-in function"
   ]
  },
  {
   "cell_type": "code",
   "execution_count": 81,
   "metadata": {
    "collapsed": false
   },
   "outputs": [
    {
     "name": "stdout",
     "output_type": "stream",
     "text": [
      "Enter some number, type \"Done\" when you are finished: \n",
      "2343\n",
      "324\n",
      "32\n",
      "Done\n",
      "[2343.0, 324.0, 32.0]\n"
     ]
    }
   ],
   "source": [
    "print (\"Enter some number, type \\\"Done\\\" when you are finished: \")   #escape  \\\n",
    "lst=[]                       #empty lst\n",
    "inp= input()                  \n",
    "while inp!=\"Done\":          #LOOP\n",
    "    lst.append(float(inp))\n",
    "    inp =input()\n",
    "print (lst)"
   ]
  },
  {
   "cell_type": "code",
   "execution_count": 82,
   "metadata": {
    "collapsed": false
   },
   "outputs": [
    {
     "name": "stdout",
     "output_type": "stream",
     "text": [
      "Average is:  899.6666666666666\n"
     ]
    }
   ],
   "source": [
    "sum =0\n",
    "for num in lst:\n",
    "    sum= sum+num\n",
    "print ((\"Average is: \"), sum/len(lst))"
   ]
  },
  {
   "cell_type": "code",
   "execution_count": 85,
   "metadata": {
    "collapsed": false,
    "scrolled": true
   },
   "outputs": [
    {
     "name": "stdout",
     "output_type": "stream",
     "text": [
      "Enter some number, type \"Done\" when you are finished: \n",
      "2343\n",
      "55\n",
      "7846\n",
      "Done\n",
      "Average is:  3414.6666666666665\n"
     ]
    }
   ],
   "source": [
    "print (\"Enter some number, type \\\"Done\\\" when you are finished: \")   #escape \\\n",
    "sum = 0\n",
    "number_ele=0\n",
    "while True:                     #infinite loop  #idiom\n",
    "    inp = input()\n",
    "    if inp==\"Done\":\n",
    "        break                   #break out of the loop\n",
    "    sum= sum+float(inp)\n",
    "    number_ele= number_ele+1\n",
    "print (\"Average is: \", sum/number_ele)"
   ]
  },
  {
   "cell_type": "code",
   "execution_count": null,
   "metadata": {
    "collapsed": true
   },
   "outputs": [],
   "source": [
    "Enter numbers and determine min and max of the list "
   ]
  }
 ],
 "metadata": {
  "kernelspec": {
   "display_name": "Python 3",
   "language": "python",
   "name": "python3"
  },
  "language_info": {
   "codemirror_mode": {
    "name": "ipython",
    "version": 3
   },
   "file_extension": ".py",
   "mimetype": "text/x-python",
   "name": "python",
   "nbconvert_exporter": "python",
   "pygments_lexer": "ipython3",
   "version": "3.5.0"
  }
 },
 "nbformat": 4,
 "nbformat_minor": 0
}
